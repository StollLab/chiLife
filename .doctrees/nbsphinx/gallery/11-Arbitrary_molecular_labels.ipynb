{
 "cells": [
  {
   "cell_type": "markdown",
   "id": "ea38958b-9720-4bde-aad9-a7b62276e626",
   "metadata": {},
   "source": [
    "# Arbitrary molecular labels"
   ]
  },
  {
   "cell_type": "code",
   "execution_count": 1,
   "id": "5cba2abd-e51e-43ed-bd42-e933aea01f7e",
   "metadata": {},
   "outputs": [],
   "source": [
    "import numpy as np\n",
    "import matplotlib.pyplot as plt\n",
    "import chilife as xl\n",
    "plt.style.use('chiLife')"
   ]
  },
  {
   "cell_type": "markdown",
   "id": "06684563-70a7-4072-adba-3e2fbee00392",
   "metadata": {},
   "source": [
    "In some cases, investigators may be interested in labeling not just proteins and nucleic acids, but arbitrary molecules like ligands, or lipids. In this example, we create a rotamer library for labeling cAMP with the 8-NBD fluorophre to demonstrate how this is done.  \n",
    "\n",
    "The first thing we must do is create a PDB file. As a starting template, I have downloaded the [CMP ligand](https://www.rcsb.org/ligand/CMP) structure from the PDB. When creating a label for a common ligand, it is always preferable to start with a structure from the PDB since the atom names should be consistent between the rotamer library you are creating and the ligands you will be labeling with it. **If the backbone atom names are not consistent chiLife will not be able to label the ligand of interest since it won't know where to attach the label**. \n",
    "\n",
    "![CMP](CMP.png)\n",
    "\n",
    "A PDB file of the CMP ligand is included in this directory. Notably this CMP has no attached label, so we must add a label using pymol or your profered molecular editing program. For this example we will add an NBD fluorphore to the C8 carbon of the purine side chain. Included in this directory are two pdb files corresponding to the raw, pymol built structure (NCA.pdb) \n",
    "\n",
    "![NCA](NCA.png)\n",
    "\n",
    "\n",
    "and the xTB optimized structure (NCA_opt.pdb). \n",
    "\n",
    "\n",
    "![NCA_opt](NCA_opt.png)\n",
    "\n",
    "\n",
    "In general all PDBs used for chiLife rotlibs should be optimized before creating a library.\n",
    "\n",
    "Now that we have structure we can create a chiLife rotlib. To do this, we will use the `create_rotlib` function, but for an arbitrty ligand we must specify the names of the atom we wish to use for alignment "
   ]
  },
  {
   "cell_type": "code",
   "execution_count": 2,
   "id": "192d42e4-86da-40fc-ac37-3b1084cb240e",
   "metadata": {},
   "outputs": [],
   "source": [
    "aln_atoms = [\"C2'\", \"C1'\", \"O4'\"]\n",
    "spin_atoms = \"O01 N02 N03 C03 C04 C05 C06 C07 C08\".split()\n",
    "\n",
    "xl.create_library('NCA', 'NCA_opt.pdb', site=0, aln_atoms=aln_atoms, spin_atoms=spin_atoms)"
   ]
  },
  {
   "cell_type": "code",
   "execution_count": 3,
   "id": "d80a91c0-b2ae-4d54-93a6-bc85a125b14b",
   "metadata": {},
   "outputs": [
    {
     "name": "stdout",
     "output_type": "stream",
     "text": [
      "\n",
      "********************************************************************************\n",
      "*  Rotamer Library Name:                                                  NCA  *\n",
      "********************************************************************************\n",
      "Rotamer Library Name: NCA\n",
      "File: E:\\07)Programming\\Python\\chiLife\\examples\\11 - Arbitrary molecular \n",
      "    lables\\NCA_rotlib.npz\n",
      "Description: None\n",
      "Comment: None\n",
      "\n",
      "Length of library: 1\n",
      "Dihedral definitions: \n",
      "    [\"O4'\" \"C1'\" 'N9' 'C4']\n",
      "    ['N9' 'C8' 'S01' 'C01']\n",
      "    ['C8' 'S01' 'C01' 'C02']\n",
      "    ['S01' 'C01' 'C02' 'N01']\n",
      "    ['C01' 'C02' 'N01' 'C07']\n",
      "    ['C02' 'N01' 'C07' 'C06']\n",
      "    ['C05' 'C04' 'N04' 'O03']\n",
      "Spin atoms: ['O01' 'N02' 'N03' 'C03' 'C04' 'C05' 'C06' 'C07' 'C08']\n",
      "Number of atoms: P: 1, O: 9, C: 18, N: 9, S: 1, H: 18\n",
      "Number of heavy atoms: 38\n",
      "Reference: None\n",
      "chiLife rotlib format: 1.4\n",
      "********************************************************************************\n"
     ]
    }
   ],
   "source": [
    "xl.rotlib_info('NCA')"
   ]
  },
  {
   "cell_type": "markdown",
   "id": "ad160dfc-c277-44f8-b03e-b95710509b41",
   "metadata": {},
   "source": [
    "![labled](CMP501NCA.png)"
   ]
  },
  {
   "cell_type": "code",
   "execution_count": 5,
   "id": "c7cd6175-4a09-48d1-a26a-699e8f43e0e9",
   "metadata": {},
   "outputs": [],
   "source": [
    "r = np.linspace(15, 100, 256)\n",
    "P = xl.distance_distribution(*labels, r)"
   ]
  },
  {
   "cell_type": "code",
   "execution_count": 6,
   "id": "62b6ad6a-3331-446b-97d2-95b3e3bad305",
   "metadata": {},
   "outputs": [
    {
     "data": {
      "image/png": "[encoded data removed]",
      "text/plain": [
       "<Figure size 640x480 with 1 Axes>"
      ]
     },
     "metadata": {},
     "output_type": "display_data"
    }
   ],
   "source": [
    "fig, ax = plt.subplots()\n",
    "ax.plot(r, P)\n",
    "ax.set_xlabel(r'distance ($\\rm\\AA$)')\n",
    "ax.set_yticks([])\n",
    "for spine in ax.spines:\n",
    "    if spine=='bottom':\n",
    "        continue\n",
    "    ax.spines[spine].set_visible(False)\n",
    "\n",
    "plt.show()\n",
    "xl.save(*labels, prot)"
   ]
  }
 ],
 "metadata": {
  "kernelspec": {
   "display_name": "Py312",
   "language": "python",
   "name": "python3"
  },
  "language_info": {
   "codemirror_mode": {
    "name": "ipython",
    "version": 3
   },
   "file_extension": ".py",
   "mimetype": "text/x-python",
   "name": "python",
   "nbconvert_exporter": "python",
   "pygments_lexer": "ipython3",
   "version": "3.12.1"
  }
 },
 "nbformat": 4,
 "nbformat_minor": 5
}
