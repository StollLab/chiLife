{
 "cells": [
  {
   "cell_type": "markdown",
   "id": "75e838cf0ee2702b",
   "metadata": {},
   "source": [
    "# Simple SDSL site pair screen"
   ]
  },
  {
   "cell_type": "code",
   "execution_count": 1,
   "id": "558eb854-221c-4ef3-ae64-2b49a4d9a298",
   "metadata": {},
   "outputs": [],
   "source": [
    "from itertools import combinations\n",
    "from tqdm import tqdm\n",
    "import numpy as np\n",
    "import matplotlib.pyplot as plt \n",
    "import chilife as xl"
   ]
  },
  {
   "cell_type": "code",
   "execution_count": 2,
   "id": "762be99f-b7e6-49c5-8431-4a88797a5794",
   "metadata": {},
   "outputs": [
    {
     "name": "stderr",
     "output_type": "stream",
     "text": [
      "100%|███████████████████████████████████████████████████████████████████████████████| 164/164 [00:01<00:00, 162.56it/s]\n",
      "100%|████████████████████████████████████████████████████████████████████████████████| 125/125 [00:01<00:00, 78.97it/s]\n"
     ]
    }
   ],
   "source": [
    "\n",
    "# Fetch structure from PDB for site screening\n",
    "t4l = xl.fetch('2lzm').select_atoms('protein')\n",
    "\n",
    "# Get residues with reasonable accessible volume for spin labeling\n",
    "vols = np.array([xl.get_site_volume(res, t4l) for res in tqdm(t4l.residues.resnums)])\n",
    "select_idxs = np.argwhere(vols > 100).flatten()\n",
    "possible_residues = t4l.residues.resnums[select_idxs]\n",
    "\n",
    "# Spin label selected residues\n",
    "SLs = {}\n",
    "for res, vol in zip(tqdm(possible_residues), vols[select_idxs]):\n",
    "    SLs[res] = xl.SpinLabel('R1M', res, t4l), vol\n",
    "\n"
   ]
  },
  {
   "cell_type": "code",
   "execution_count": 3,
   "id": "6bcbb3fc-a816-4847-ab9f-6c1a8bc7f0da",
   "metadata": {},
   "outputs": [
    {
     "name": "stderr",
     "output_type": "stream",
     "text": [
      "7750it [00:00, 14018.26it/s]\n"
     ]
    }
   ],
   "source": [
    "# Predict distance distributions\n",
    "pairs = []\n",
    "scores = []\n",
    "r = np.linspace(15, 80, 256)\n",
    "for perm in tqdm(combinations(SLs, 2)):\n",
    "    res1, res2 = perm\n",
    "    (SL1, vol1), (SL2, vol2)  = SLs[res1], SLs[res2]\n",
    "    mean_dist = np.linalg.norm(SL1.spin_centroid -  SL2.spin_centroid)\n",
    "    if mean_dist < 25:\n",
    "        continue\n",
    "    \n",
    "    # Score by smallest mean distance with largest residue count difference \n",
    "    pairs.append(perm)\n",
    "    scores.append(mean_dist / (SL2.site - SL1.site) / np.minimum(vol1, vol2)**(1/3))\n",
    "    "
   ]
  },
  {
   "cell_type": "code",
   "execution_count": 4,
   "id": "6340c8ec-625d-4fe0-b2f1-c500ad44b166",
   "metadata": {},
   "outputs": [
    {
     "name": "stdout",
     "output_type": "stream",
     "text": [
      "4 159\n"
     ]
    }
   ],
   "source": [
    "idx = np.argmin(scores)\n",
    "site1, site2 = pairs[idx]\n",
    "print(site1, site2)"
   ]
  },
  {
   "cell_type": "code",
   "execution_count": 5,
   "id": "e1e10ee7-9141-4d9d-8faa-d78f505eb75c",
   "metadata": {},
   "outputs": [
    {
     "data": {
      "image/png": "[encoded data removed]",
      "text/plain": [
       "<Figure size 640x480 with 1 Axes>"
      ]
     },
     "metadata": {},
     "output_type": "display_data"
    }
   ],
   "source": [
    "(SL1, vol1), (SL2, vol2)  = SLs[site1], SLs[site2]\n",
    "r = np.linspace(15,80, 256)\n",
    "P = xl.distance_distribution(SL1, SL2, r)\n",
    "\n",
    "fig, ax = plt.subplots()\n",
    "ax.plot(r, P)\n",
    "\n",
    "\n",
    "ax.set_xlabel(r'distance ($\\rm\\AA$)')\n",
    "ax.set_yticks([])\n",
    "for spine in ax.spines:\n",
    "    if spine == 'bottom' : continue\n",
    "    ax.spines[spine].set_visible(False)\n",
    "\n",
    "plt.show()\n",
    "xl.save(SL1, SL2, t4l)"
   ]
  }
 ],
 "metadata": {
  "kernelspec": {
   "display_name": "Py312",
   "language": "python",
   "name": "python3"
  },
  "language_info": {
   "codemirror_mode": {
    "name": "ipython",
    "version": 3
   },
   "file_extension": ".py",
   "mimetype": "text/x-python",
   "name": "python",
   "nbconvert_exporter": "python",
   "pygments_lexer": "ipython3",
   "version": "3.12.1"
  }
 },
 "nbformat": 4,
 "nbformat_minor": 5
}
