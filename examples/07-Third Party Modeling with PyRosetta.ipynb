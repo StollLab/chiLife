{
 "cells": [
  {
   "cell_type": "code",
   "execution_count": 1,
   "metadata": {
    "tags": []
   },
   "outputs": [
    {
     "ename": "ModuleNotFoundError",
     "evalue": "No module named 'pyrosetta'",
     "output_type": "error",
     "traceback": [
      "\u001b[1;31m---------------------------------------------------------------------------\u001b[0m",
      "\u001b[1;31mModuleNotFoundError\u001b[0m                       Traceback (most recent call last)",
      "Input \u001b[1;32mIn [1]\u001b[0m, in \u001b[0;36m<cell line: 1>\u001b[1;34m()\u001b[0m\n\u001b[1;32m----> 1\u001b[0m \u001b[38;5;28;01mfrom\u001b[39;00m \u001b[38;5;21;01mpyrosetta\u001b[39;00m \u001b[38;5;28;01mimport\u001b[39;00m \u001b[38;5;241m*\u001b[39m\n\u001b[0;32m      2\u001b[0m \u001b[38;5;28;01mfrom\u001b[39;00m \u001b[38;5;21;01mscipy\u001b[39;00m\u001b[38;5;21;01m.\u001b[39;00m\u001b[38;5;21;01mstats\u001b[39;00m \u001b[38;5;28;01mimport\u001b[39;00m norm\n\u001b[0;32m      3\u001b[0m \u001b[38;5;28;01mimport\u001b[39;00m \u001b[38;5;21;01mmdanalysis\u001b[39;00m \u001b[38;5;28;01mas\u001b[39;00m \u001b[38;5;21;01mmda\u001b[39;00m\n",
      "\u001b[1;31mModuleNotFoundError\u001b[0m: No module named 'pyrosetta'"
     ]
    }
   ],
   "source": [
    "import pickle\n",
    "from pyrosetta import *\n",
    "from scipy.stats import norm\n",
    "import MDAnalysis as mda\n",
    "import numpy as np\n",
    "import chiLife as xl\n",
    "from rosetta.core.scoring.methods import ContextDependentTwoBodyEnergy\n",
    "from itertools import chain\n",
    "from time import perf_counter\n",
    "\n",
    "init()\n",
    "pose = pose_from_pdb('1omp.clean.pdb')\n",
    "\n",
    "@EnergyMethod()\n",
    "class RosettaDipolarDistance(ContextDependentTwoBodyEnergy):\n",
    "    def __init__(self):\n",
    "        ContextDependentTwoBodyEnergy.__init__(self, self.creator())\n",
    "\n",
    "        # Load in experimental data\n",
    "        with open('R7_Holo_Data.pkl', 'rb') as f:\n",
    "            self.site_pairs = pickle.load(f)\n",
    "\n",
    "\n",
    "        self.sites = tuple(set(chain.from_iterable((key for key in self.site_pairs))))\n",
    "        self.SLCache = {}\n",
    "        self.iteration = 0\n",
    "\n",
    "\n",
    "    def setup_for_scoring(self, pose, sf):\n",
    "        # Create MDA Universe if it does not exist\n",
    "        if not hasattr(self, 'mda_protein'):\n",
    "            self.mda_protein = xl.pose2mda(pose)\n",
    "\n",
    "\n",
    "        if self.iteration % 100 == 0 and pose.is_fullatom():\n",
    "            print('100 iterations passed - recalculating rotamer ensembles')\n",
    "            # Update the universe with rosetta coordinates\n",
    "            self.mda_protein.atoms.positions = np.array([res.xyz(atom)\n",
    "                                                         for res in pose.residues\n",
    "                                                         for atom in range(1, res.natoms() + 1)\n",
    "                                                         if res.atom_type(atom).element().strip() != 'X'])\n",
    "\n",
    "            # Recalculate spin lables\n",
    "            self.SLCache = {site: xl.SpinLabel('R7M', site, self.mda_protein) for site in self.sites}\n",
    "\n",
    "\n",
    "        else:\n",
    "            if self.iteration % 100 == 0:\n",
    "                print('100 iterations passed in CG')\n",
    "            # Just move the spin labels\n",
    "            for site in self.sites:\n",
    "                backbone =  np.array([pose.residue(site).xyz('N'), pose.residue(site).xyz('CA'), pose.residue(site).xyz('C')])\n",
    "                self.SLCache[site]._to_site(backbone)\n",
    "\n",
    "        self.iteration += 1\n",
    "\n",
    "\n",
    "\n",
    "    def residue_pair_energy(self, res1, res2, pose, sf, emap):\n",
    "        r1 = res1.seqpos()\n",
    "        r2 = res2.seqpos()\n",
    "\n",
    "        # Skip if it is not a restrainted residue\n",
    "        if (r1, r2) not in self.site_pairs:\n",
    "            score = 0.\n",
    "\n",
    "        # Otherwise calculate the overlap between the predicted P(r) and the proivided restraint\n",
    "        else:\n",
    "            # Calculate preidcted P(r)s\n",
    "            r, P = self.site_pairs[(r1, r2)]\n",
    "            SL1, SL2 = self.SLCache[r1], self.SLCache[r2]\n",
    "            dd = xl.distance_distribution(SL1, SL2, r)\n",
    "\n",
    "            # Overlap Score\n",
    "            score = -np.sum(np.minimum(P, dd))\n",
    "            emap.set(self.scoreType, score)\n",
    "\n",
    "    def defines_intrares_energy(self, weights):\n",
    "        return False\n",
    "\n",
    "    def atomic_interaction_cutoff(self):\n",
    "        return 500.0\n",
    "\n",
    "RDD = RosettaDipolarDistance.scoreType\n",
    "sf = get_score_function()\n",
    "sf.set_weight(RDD, 1.0)\n",
    "\n",
    "relax = pyrosetta.rosetta.protocols.relax.FastRelax()\n",
    "relax.set_scorefxn(sf)\n",
    "relax.apply(pose)\n"
   ]
  },
  {
   "cell_type": "code",
   "execution_count": 26,
   "metadata": {},
   "outputs": [],
   "source": [
    "import pickle\n",
    "import json\n",
    "import re\n",
    "import numpy as np\n",
    "with open('DeerData.pkl', 'rb') as f:\n",
    "    Data = pickle.load(f)\n",
    "\n"
   ]
  },
  {
   "cell_type": "code",
   "execution_count": 33,
   "metadata": {},
   "outputs": [],
   "source": [
    "\n",
    "\n",
    "R7HoloData = {}\n",
    "for key in Data:\n",
    "    sub = Data[key]\n",
    "    \n",
    "    site1, site2 = re.findall(r'\\d+', key)\n",
    "    \n",
    "    for key2  in sub:\n",
    "        label, state = key2\n",
    "        Exp = sub[key2]\n",
    "        \n",
    "        if state != 'Holo' or label != 'R7':\n",
    "            continue\n",
    "        \n",
    "        R7HoloData[(int(site1), int(site2))] = Exp.r * 10 , Exp.P / np.trapz(Exp.P, Exp.r * 10)        "
   ]
  },
  {
   "cell_type": "code",
   "execution_count": 34,
   "metadata": {},
   "outputs": [],
   "source": [
    "with open('R7_Holo_Data.pkl', 'wb') as f:\n",
    "    pickle.dump(R7HoloData, f)"
   ]
  },
  {
   "cell_type": "code",
   "execution_count": null,
   "metadata": {},
   "outputs": [],
   "source": []
  }
 ],
 "metadata": {
  "kernelspec": {
   "display_name": "Python 3.7.4 64-bit",
   "language": "python",
   "name": "python3"
  },
  "language_info": {
   "codemirror_mode": {
    "name": "ipython",
    "version": 3
   },
   "file_extension": ".py",
   "mimetype": "text/x-python",
   "name": "python",
   "nbconvert_exporter": "python",
   "pygments_lexer": "ipython3",
   "version": "3.7.4"
  },
  "vscode": {
   "interpreter": {
    "hash": "5109d816b82be14675a6b11f8e0f0d2e80f029176ed3710d54e125caa8520dfd"
   }
  }
 },
 "nbformat": 4,
 "nbformat_minor": 4
}
