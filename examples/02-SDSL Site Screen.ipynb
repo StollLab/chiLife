{
 "cells": [
  {
   "cell_type": "code",
   "execution_count": 1,
   "metadata": {},
   "outputs": [
    {
     "name": "stderr",
     "output_type": "stream",
     "text": [
      "C:\\Program Files\\Python310\\lib\\site-packages\\tqdm\\auto.py:22: TqdmWarning: IProgress not found. Please update jupyter and ipywidgets. See https://ipywidgets.readthedocs.io/en/stable/user_install.html\n",
      "  from .autonotebook import tqdm as notebook_tqdm\n"
     ]
    }
   ],
   "source": [
    "from itertools import combinations\n",
    "import numpy as np\n",
    "import chiLife as xl\n",
    "import MDAnalysis as mda \n",
    "from scipy.stats import wasserstein_distance\n",
    "import matplotlib.pyplot as plt\n",
    "from tqdm import tqdm\n",
    "plt.style.use('chiLife')"
   ]
  },
  {
   "cell_type": "code",
   "execution_count": 49,
   "metadata": {},
   "outputs": [
    {
     "name": "stderr",
     "output_type": "stream",
     "text": [
      "100%|████████████████████████████████████████████████████████████████████████████████| 116/116 [00:05<00:00, 20.10it/s]\n",
      "100%|████████████████████████████████████████████████████████████████████████████████| 116/116 [00:05<00:00, 19.43it/s]\n"
     ]
    }
   ],
   "source": [
    "r = np.linspace(0, 100, 256)\n",
    "# omp = xl.fetch('1omp')\n",
    "# anf = xl.fetch('1anf')\n",
    "\n",
    "omp = mda.Universe('1omp.pdb')\n",
    "anf = mda.Universe('1anf.pdb')\n",
    "\n",
    "# Get residues that are solvent accessible in both conformations\n",
    "omp_SASR = xl.get_sas_res(omp, 50)\n",
    "anf_SASR = xl.get_sas_res(anf, 50)\n",
    "SASR = omp_SASR & anf_SASR\n",
    "\n",
    "#  Model spin labels on apo and holo\n",
    "omp_spin_labels = {(site, chain): xl.SpinLabel('R1A', site, omp, chain=chain) for site, chain in tqdm(SASR)}\n",
    "anf_spin_labels = {(site, chain): xl.SpinLabel('R1A', site, anf, chain=chain) for site, chain in tqdm(SASR)}\n"
   ]
  },
  {
   "cell_type": "code",
   "execution_count": 50,
   "metadata": {},
   "outputs": [],
   "source": [
    "\n",
    "# Simulate distance distributions for all possible combinations  \n",
    "Apo_pairs = list(combinations(anf_spin_labels.values(), r=2))\n",
    "Holo_pairs = list(combinations(anf_spin_labels.values(), r=2))\n",
    "Ps_omp = np.array([xl.distance_distribution(SL1, SL2, r) for SL1, SL2 in Apo_pairs])\n",
    "Ps_anf = np.array([xl.distance_distribution(SL1, SL2, r) for SL1, SL2 in Holo_pairs])\n",
    "\n",
    "EMDs = [wasserstein_distance(r, r, P_omp, P_anf) for P_omp, P_anf in zip(Ps_omp, Ps_anf)]"
   ]
  },
  {
   "cell_type": "code",
   "execution_count": 51,
   "metadata": {},
   "outputs": [
    {
     "data": {
      "image/png": "[encoded data removed]",
      "text/plain": [
       "<Figure size 432x288 with 1 Axes>"
      ]
     },
     "metadata": {
      "needs_background": "light"
     },
     "output_type": "display_data"
    }
   ],
   "source": [
    "args = np.argsort(EMDs)[::-1]\n",
    "arg = args[2]\n",
    "site1, site2 = all_pairs[arg]\n",
    "omp_SL1 = omp_spin_labels[site1]\n",
    "omp_SL2 = omp_spin_labels[site2]\n",
    "\n",
    "anf_SL1 = anf_spin_labels[site1]\n",
    "anf_SL2 = anf_spin_labels[site2]\n",
    "\n",
    "omp_cbd = np.linalg.norm(omp_SL1.coords[0, omp_SL1.atom_names=='CB'] - omp_SL2.coords[0, omp_SL2.atom_names=='CB'])\n",
    "anf_cbd = np.linalg.norm(anf_SL1.coords[0, anf_SL1.atom_names=='CB'] - anf_SL2.coords[0, anf_SL2.atom_names=='CB'])\n",
    "\n",
    "fig, ax = plt.subplots()\n",
    "ax.set_title(f'MBP {site1[0]}R1 {site2[0]}R1')\n",
    "\n",
    "ax.plot(r, Ps_omp[arg], label='Apo')\n",
    "ax.plot(r, Ps_anf[arg], label='Holo')\n",
    "\n",
    "ax.axvline(omp_cbd, color='C0')\n",
    "ax.axvline(anf_cbd, color='C1')\n",
    "\n",
    "ax.set_yticks([])\n",
    "ax.set_xlabel(r'distance ($\\rm\\AA$)')\n",
    "ax.legend()\n",
    "\n",
    "for spine in ['left', 'top', 'right']:\n",
    "    ax.spines[spine].set_visible(False)\n",
    "\n",
    "plt.show()\n",
    "fig.savefig(f'MBP {site1[0]}R1 {site2[0]}R1 Pr.png', bbox_inches='tight', dpi=1000)\n",
    "xl.save('omp_S1.pdb', omp_SL1, omp_SL2, omp)\n",
    "xl.save('anf_S1.pdb', anf_SL1, anf_SL2, anf)"
   ]
  },
  {
   "cell_type": "code",
   "execution_count": 55,
   "metadata": {},
   "outputs": [
    {
     "name": "stdout",
     "output_type": "stream",
     "text": [
      "4021 6.306527105488222 0.46501200608304577 (236, 'A') (34, 'A')\n",
      "6418 5.179474157402211 0.513612273762204 (241, 'A') (34, 'A')\n",
      "6055 6.193879001627703 1.1673453395273294 (211, 'A') (45, 'A')\n",
      "6212 5.088252250364391 1.1921676536856662 (41, 'A') (241, 'A')\n",
      "3978 6.175182707037109 1.2720857435253603 (236, 'A') (26, 'A')\n",
      "1397 6.517951308853881 1.7221456204886438 (210, 'A') (45, 'A')\n",
      "5604 5.25359826352836 1.9383706449111255 (234, 'A') (41, 'A')\n"
     ]
    }
   ],
   "source": [
    "args = np.argsort(EMDs)\n",
    "for arg in args:\n",
    "    site1, site2 = all_pairs[arg]\n",
    "    omp_SL1 = omp_spin_labels[site1]\n",
    "    omp_SL2 = omp_spin_labels[site2]\n",
    "\n",
    "    anf_SL1 = anf_spin_labels[site1]\n",
    "    anf_SL2 = anf_spin_labels[site2]\n",
    "\n",
    "    Pomp = xl.distance_distribution(omp_SL1, omp_SL2, r)\n",
    "    Panf = xl.distance_distribution(anf_SL1, anf_SL2, r)\n",
    "\n",
    "    omp_cbd = np.linalg.norm(omp_SL1.coords[0, omp_SL1.atom_names=='CB'] - omp_SL2.coords[0, omp_SL2.atom_names=='CB'])\n",
    "    anf_cbd = np.linalg.norm(anf_SL1.coords[0, anf_SL1.atom_names=='CB'] - anf_SL2.coords[0, anf_SL2.atom_names=='CB'])\n",
    "    cbeta_delta = omp_cbd - anf_cbd \n",
    "    if cbeta_delta> 5 and EMDs[arg] < 2.0:\n",
    "        print(f\"{arg} {cbeta_delta} {EMDs[arg]} {site1} {site2}\")"
   ]
  },
  {
   "cell_type": "code",
   "execution_count": 57,
   "metadata": {},
   "outputs": [
    {
     "data": {
      "image/png": "[encoded data removed]",
      "text/plain": [
       "<Figure size 432x288 with 1 Axes>"
      ]
     },
     "metadata": {
      "needs_background": "light"
     },
     "output_type": "display_data"
    }
   ],
   "source": [
    "arg = 6055            \n",
    "site1, site2 = all_pairs[arg]\n",
    "omp_SL1 = omp_spin_labels[site1]\n",
    "omp_SL2 = omp_spin_labels[site2]\n",
    "\n",
    "anf_SL1 = anf_spin_labels[site1]\n",
    "anf_SL2 = anf_spin_labels[site2]\n",
    "\n",
    "omp_cbd = np.linalg.norm(omp_SL1.coords[0, omp_SL1.atom_names=='CB'] - omp_SL2.coords[0, omp_SL2.atom_names=='CB'])\n",
    "anf_cbd = np.linalg.norm(anf_SL1.coords[0, anf_SL1.atom_names=='CB'] - anf_SL2.coords[0, anf_SL2.atom_names=='CB'])\n",
    "\n",
    "\n",
    "fig, ax = plt.subplots()\n",
    "ax.set_title(f'MBP {site1[0]}R1 {site2[0]}R1')\n",
    "\n",
    "ax.plot(r, Ps_omp[arg], label='Apo')\n",
    "ax.plot(r, Ps_anf[arg], label='Holo')\n",
    "\n",
    "ax.axvline(omp_cbd, color='C0')\n",
    "ax.axvline(anf_cbd, color='C1')\n",
    "\n",
    "ax.set_yticks([])\n",
    "ax.set_xlabel(r'distance ($\\rm\\AA$)')\n",
    "ax.legend()\n",
    "\n",
    "for spine in ['left', 'top', 'right']:\n",
    "    ax.spines[spine].set_visible(False)\n",
    "\n",
    "plt.show()\n",
    "\n",
    "fig.savefig(f'MBP {site1[0]}R1 {site2[0]}R1 Pr.png', bbox_inches='tight', dpi=1000)\n",
    "xl.save('omp_S2.pdb', omp_SL1, omp_SL2, omp)\n",
    "xl.save('anf_S2.pdb', anf_SL1, anf_SL2, anf)\n"
   ]
  },
  {
   "cell_type": "code",
   "execution_count": 43,
   "metadata": {},
   "outputs": [],
   "source": [
    "xl.save(omp_SL1, omp_SL2, omp)\n",
    "xl.save(anf_SL1, anf_SL2, anf)"
   ]
  },
  {
   "cell_type": "code",
   "execution_count": null,
   "metadata": {},
   "outputs": [],
   "source": []
  }
 ],
 "metadata": {
  "kernelspec": {
   "display_name": "Python310",
   "language": "python",
   "name": "python310"
  },
  "language_info": {
   "codemirror_mode": {
    "name": "ipython",
    "version": 3
   },
   "file_extension": ".py",
   "mimetype": "text/x-python",
   "name": "python",
   "nbconvert_exporter": "python",
   "pygments_lexer": "ipython3",
   "version": "3.10.4"
  }
 },
 "nbformat": 4,
 "nbformat_minor": 4
}
