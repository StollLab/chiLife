{
 "cells": [
  {
   "cell_type": "markdown",
   "metadata": {},
   "source": [
    "# Adding Custom Spin Labels"
   ]
  },
  {
   "cell_type": "code",
   "execution_count": 1,
   "metadata": {},
   "outputs": [
    {
     "name": "stderr",
     "output_type": "stream",
     "text": [
      "C:\\Program Files\\Python310\\lib\\site-packages\\tqdm\\auto.py:22: TqdmWarning: IProgress not found. Please update jupyter and ipywidgets. See https://ipywidgets.readthedocs.io/en/stable/user_install.html\n",
      "  from .autonotebook import tqdm as notebook_tqdm\n",
      "C:\\Program Files\\Python310\\lib\\site-packages\\memoization\\memoization.py:112: SyntaxWarning: Expected custom_key_maker to have the same signature as the function being cached. Call memoization.suppress_warnings() before using @cached to remove this message.\n",
      "  warnings.warn('Expected custom_key_maker to have the same signature as the function being cached. '\n"
     ]
    }
   ],
   "source": [
    "import numpy as np\n",
    "import chilife as xl"
   ]
  },
  {
   "cell_type": "code",
   "execution_count": 2,
   "metadata": {},
   "outputs": [
    {
     "name": "stderr",
     "output_type": "stream",
     "text": [
      "WARNING:py.warnings:C:\\Users\\mhtes\\AppData\\Roaming\\Python\\Python310\\site-packages\\MDAnalysis\\core\\universe.py:645: UserWarning: Reader has no dt information, set to 1.0 ps\n",
      "  dt=self.trajectory.ts.dt * step,\n",
      "\n"
     ]
    }
   ],
   "source": [
    "weights = np.loadtxt('R3A/weights.txt')\n",
    "xl.create_library('R3A', 'R3A/R3A_Ensemble.pdb', site=2,\n",
    "                  dihedral_atoms=[['N', 'CA', 'CB', 'SG'],\n",
    "                                  ['CA', 'CB', 'SG', 'CD'],\n",
    "                                  ['CB', 'SG', 'CD', 'C3'],\n",
    "                                  ['SG', 'CD', 'C3', 'C4']],\n",
    "                  spin_atoms=['N1', 'O1'],\n",
    "                  weights=weights)\n",
    "\n",
    "weights = np.loadtxt('NBA/weights.txt')\n",
    "xl.create_library('NBA', 'NBA/NBA_Ensemble.pdb', \n",
    "                  site=2,\n",
    "                  dihedral_atoms=[['N', 'CA', 'C01', 'C07'],\n",
    "                                  ['CA', 'C01', 'C07', 'C08'],\n",
    "                                  ['C03', 'C04', 'C09', 'C13'],\n",
    "                                  ['C10', 'C11', 'N01', 'C14'],\n",
    "                                  ['N01', 'C14', 'C15', 'C16']],\n",
    "                  spin_atoms={'N02': 0.5, 'O01': 0.5},\n",
    "                  weights=weights)\n",
    "\n",
    "weights = np.loadtxt('GD3/weights.txt')\n",
    "xl.create_library('GD3', 'GD3/GD3_Ensemble.pdb', \n",
    "                  dihedral_atoms=[['N', 'CA', 'CB', 'SG'],\n",
    "                                  ['CA', 'CB', 'SG', 'C18'],\n",
    "                                  ['CB', 'SG', 'C18', 'C19'],\n",
    "                                  ['C17', 'C16', 'C9', 'N1'],\n",
    "                                  ['C16', 'C9', 'N1', 'C8']],\n",
    "                  spin_atoms='Gd1',\n",
    "                  weights=weights)\n",
    "\n",
    "\n",
    "\n",
    "\n",
    "T4L = xl.fetch('2lzm')\n",
    "T109R3A = xl.SpinLabel('R3A', 109, T4L, rotlib='R3A_rotlib.npz')\n",
    "T109NBA = xl.SpinLabel('NBA', 109, T4L, rotlib='NBA')\n",
    "T109GD3 = xl.SpinLabel('GD3', 109, T4L, sample=5000)\n",
    "\n",
    "xl.save(T109R3A, T109NBA, T109GD3, T4L)\n"
   ]
  }
 ],
 "metadata": {
  "kernelspec": {
   "display_name": "Python 3.10",
   "language": "python",
   "name": "python3"
  },
  "language_info": {
   "codemirror_mode": {
    "name": "ipython",
    "version": 3
   },
   "file_extension": ".py",
   "mimetype": "text/x-python",
   "name": "python",
   "nbconvert_exporter": "python",
   "pygments_lexer": "ipython3",
   "version": "3.10.9"
  }
 },
 "nbformat": 4,
 "nbformat_minor": 4
}
