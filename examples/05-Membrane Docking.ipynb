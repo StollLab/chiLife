{
 "cells": [
  {
   "cell_type": "code",
   "execution_count": 1,
   "metadata": {},
   "outputs": [
    {
     "name": "stderr",
     "output_type": "stream",
     "text": [
      "C:\\Program Files\\Python310\\lib\\site-packages\\tqdm\\auto.py:22: TqdmWarning: IProgress not found. Please update jupyter and ipywidgets. See https://ipywidgets.readthedocs.io/en/stable/user_install.html\n",
      "  from .autonotebook import tqdm as notebook_tqdm\n"
     ]
    }
   ],
   "source": [
    "import numpy as np\n",
    "import matplotlib.pyplot as plt\n",
    "import chiLife as xl\n",
    "from scipy.spatial.transform import Rotation\n",
    "from scipy.optimize import minimize"
   ]
  },
  {
   "cell_type": "code",
   "execution_count": 2,
   "metadata": {},
   "outputs": [],
   "source": [
    "def phitodepth(phi):\n",
    "    A, B, C, D = 3.8, 0.079, 10.2, 1.1\n",
    "    return (np.arctanh((phi - D) / A) / B) + C"
   ]
  },
  {
   "cell_type": "code",
   "execution_count": 3,
   "metadata": {},
   "outputs": [
    {
     "data": {
      "text/plain": [
       "(array([ 31.,  32.,  33.,  34.,  35.,  36.,  37.,  38.,  39.,  41.,  63.,\n",
       "         64.,  65.,  66.,  67.,  68.,  94.,  95.,  96.,  97.,  98.,  99.,\n",
       "        100., 101.]),\n",
       " array([-1.5 , -0.1 , -1.  ,  0.4 ,  1.9 ,  1.5 , -0.3 ,  0.94,  2.4 ,\n",
       "        -1.5 , -1.4 , -1.2 , -0.8 , -1.6 , -1.4 , -1.8 , -0.5 ,  0.2 ,\n",
       "         0.8 ,  1.  ,  0.3 , -0.5 , -1.1 , -1.7 ]))"
      ]
     },
     "execution_count": 3,
     "metadata": {},
     "output_type": "execute_result"
    }
   ],
   "source": [
    "bci = xl.fetch('1bci').select_atoms('protein')\n",
    "sites, phis = np.loadtxt('MembraneDepthParameters.txt').T\n",
    "sites, phis"
   ]
  },
  {
   "cell_type": "code",
   "execution_count": 4,
   "metadata": {},
   "outputs": [
    {
     "name": "stderr",
     "output_type": "stream",
     "text": [
      "WARNING:py.warnings:C:\\Program Files\\Python310\\lib\\site-packages\\MDAnalysis\\coordinates\\PDB.py:747: UserWarning: Unit cell dimensions not found. CRYST1 record set to unitary values.\n",
      "  warnings.warn(\"Unit cell dimensions not found. \"\n",
      "\n"
     ]
    },
    {
     "name": "stdout",
     "output_type": "stream",
     "text": [
      "225.14927469170482\n",
      "translated0.pdb translated0_many_labels.pdb\n",
      "233.42425699991753\n",
      "translated1.pdb translated1_many_labels.pdb\n",
      "228.23621285557198\n",
      "translated2.pdb translated2_many_labels.pdb\n",
      "243.09113465248078\n",
      "translated3.pdb translated3_many_labels.pdb\n",
      "229.75447715323915\n",
      "translated4.pdb translated4_many_labels.pdb\n",
      "201.38527249358205\n",
      "translated5.pdb translated5_many_labels.pdb\n",
      "232.27278384090374\n",
      "translated6.pdb translated6_many_labels.pdb\n",
      "229.695222020331\n",
      "translated7.pdb translated7_many_labels.pdb\n",
      "235.680705279787\n",
      "translated8.pdb translated8_many_labels.pdb\n",
      "217.86819262655717\n",
      "translated9.pdb translated9_many_labels.pdb\n"
     ]
    }
   ],
   "source": [
    "for iterat in range(10):\n",
    "    label_list = []\n",
    "    spin_centroids = []\n",
    "    depths = phitodepth(phis)\n",
    "\n",
    "    for site, depth in zip(sites, depths):\n",
    "        SL = xl.SpinLabel('R1A', int(site), protein=bci, sample=1000)\n",
    "        spin_centroids.append(SL.spin_centroid)\n",
    "        label_list.append(SL)\n",
    "\n",
    "    spin_centroids = np.array(spin_centroids)\n",
    "    spin_cen = np.mean(spin_centroids, axis=0)\n",
    "    spin_at_ori = spin_centroids - spin_cen\n",
    "\n",
    "    def objective(par):\n",
    "        x, y, z, zdepth = par\n",
    "        R = Rotation.from_euler('xyz', [x, y, z])\n",
    "\n",
    "        M = R.as_matrix()\n",
    "\n",
    "        new_spin_coords = spin_at_ori@M + np.array([0, 0, zdepth])\n",
    "        resid = new_spin_coords[:, 2] - depths\n",
    "\n",
    "        return resid @ resid\n",
    "\n",
    "\n",
    "    \n",
    "    fit = minimize(objective, x0=[0, 0, 0, 0], bounds=[[-180, 180], [-180, 180], [-180, 180], [-100, 100]])\n",
    "    print(fit.fun)\n",
    "    R = Rotation.from_euler('xyz', fit.x[:3]).as_matrix()\n",
    "\n",
    "    bci.atoms.positions = (bci.atoms.positions - spin_cen) @ R + np.array([0, 0, fit.x[-1]])\n",
    "\n",
    "    spin_centroids = []\n",
    "    for i, SL in enumerate(label_list):\n",
    "        SL.coords = (SL.coords - spin_cen) @ R + np.array([0, 0, fit.x[-1]])\n",
    "        spin_centroids.append(SL.spin_centroid)\n",
    "\n",
    "    bci.atoms.write(f'translated{iterat}.pdb')\n",
    "    xl.save(*label_list, f'translated{iterat}.pdb', KDE=False)"
   ]
  },
  {
   "cell_type": "code",
   "execution_count": 32,
   "metadata": {},
   "outputs": [
    {
     "data": {
      "image/png": "[encoded data removed]",
      "text/plain": [
       "<Figure size 432x288 with 1 Axes>"
      ]
     },
     "metadata": {
      "needs_background": "light"
     },
     "output_type": "display_data"
    }
   ],
   "source": [
    "import matplotlib.pyplot as plt\n",
    "plt.scatter(sites, depths, label='Data')\n",
    "plt.scatter(sites, spin_centroids[:,2], label='Model')\n",
    "plt.ylabel('Membrane Depth ($\\AA$)')\n",
    "plt.xlabel('Residue Number')\n",
    "plt.legend()\n",
    "plt.show()\n"
   ]
  },
  {
   "cell_type": "code",
   "execution_count": null,
   "metadata": {},
   "outputs": [],
   "source": []
  }
 ],
 "metadata": {
  "kernelspec": {
   "display_name": "Python310",
   "language": "python",
   "name": "python310"
  },
  "language_info": {
   "codemirror_mode": {
    "name": "ipython",
    "version": 3
   },
   "file_extension": ".py",
   "mimetype": "text/x-python",
   "name": "python",
   "nbconvert_exporter": "python",
   "pygments_lexer": "ipython3",
   "version": "3.10.4"
  }
 },
 "nbformat": 4,
 "nbformat_minor": 4
}
