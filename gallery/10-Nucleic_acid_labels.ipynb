{
 "cells": [
  {
   "cell_type": "markdown",
   "id": "ea38958b-9720-4bde-aad9-a7b62276e626",
   "metadata": {},
   "source": [
    "# Nucleic acid labels"
   ]
  },
  {
   "cell_type": "code",
   "execution_count": 1,
   "id": "5cba2abd-e51e-43ed-bd42-e933aea01f7e",
   "metadata": {},
   "outputs": [],
   "source": [
    "import numpy as np\n",
    "import matplotlib.pyplot as plt\n",
    "import chilife as xl\n",
    "plt.style.use('chiLife')"
   ]
  },
  {
   "cell_type": "markdown",
   "id": "06684563-70a7-4072-adba-3e2fbee00392",
   "metadata": {},
   "source": [
    "In this tutorial we will create two new nucleic acid spin labels and use them on a variety of nucleic acids. Unlike most protein labels, nucleic acid labels are often attached at a variety of different locations on a single residue including different backbone positions and sometimes on the side chain as illustrated below. \n",
    "\n",
    "![Alternate alignment positions](alt_aln_pos.png)\n",
    "\n",
    "\n",
    "## Automated label backbone detection\n",
    "\n",
    "For some labels, primarily those that protrude from the sugar-phosphate backbone, chiLife will be able to detect which part of the label is backbone and which is side chain, automatically detecting the alignment atoms and mobile side chain dihedrals. "
   ]
  },
  {
   "cell_type": "code",
   "execution_count": 2,
   "id": "d642c25f-7f37-43b5-a5b5-6ae8d560f03a",
   "metadata": {},
   "outputs": [
    {
     "name": "stdout",
     "output_type": "stream",
     "text": [
      "\n",
      "********************************************************************************\n",
      "*  Rotamer Library Name:                                                  C2P  *\n",
      "********************************************************************************\n",
      "Rotamer Library Name: C2P\n",
      "File: E:\\07)Programming\\Python\\chiLife\\examples\\10 - Nucleic acid \n",
      "    labels\\C2P_rotlib.npz\n",
      "Description: None\n",
      "Comment: None\n",
      "\n",
      "Length of library: 1\n",
      "Dihedral definitions: \n",
      "    [\"C3'\" \"C2'\" 'N05' 'C02']\n",
      "    [\"C2'\" 'N05' 'C02' 'O07']\n",
      "    ['N05' 'C02' 'C03' 'C04']\n",
      "Spin atoms: ['N35' 'O36']\n",
      "Number of atoms: P: 1, O: 7, C: 14, N: 2, H: 21\n",
      "Number of heavy atoms: 24\n",
      "Reference: None\n",
      "chiLife rotlib format: 1.4\n",
      "********************************************************************************\n"
     ]
    }
   ],
   "source": [
    "xl.create_library('C2P', 'C2P.pdb', spin_atoms=[\"N35\", \"O36\"])\n",
    "xl.rotlib_info('C2P')"
   ]
  },
  {
   "cell_type": "markdown",
   "id": "82aa1e87-c182-4fcc-a4ce-a22dff73b51f",
   "metadata": {},
   "source": [
    "Labels that are created like this can be used on all types of nucleic acid residues."
   ]
  },
  {
   "cell_type": "code",
   "execution_count": 3,
   "id": "171836d6-dad2-4f18-b322-1e248a2b6a4b",
   "metadata": {},
   "outputs": [
    {
     "data": {
      "image/png": "[encoded data removed]",
      "text/plain": [
       "<Figure size 640x480 with 1 Axes>"
      ]
     },
     "metadata": {},
     "output_type": "display_data"
    }
   ],
   "source": [
    "DNA_RNA_Hybrid = xl.fetch('1fix')\n",
    "\n",
    "# Label an RNA cytosine \n",
    "SL1 = xl.SpinLabel('C2P', 7, DNA_RNA_Hybrid, chain='A', sample=5000)\n",
    "\n",
    "# Label a DNA guanine\n",
    "SL2 = xl.SpinLabel('C2P', 12, DNA_RNA_Hybrid, chain='B', sample=5000)\n",
    "\n",
    "r = np.linspace(15, 80, 256)\n",
    "P = xl.distance_distribution(SL1, SL2, r)\n",
    "\n",
    "fig, ax = plt.subplots()\n",
    "ax.plot(r, P)\n",
    "ax.set_xlabel(r'distance ($\\rm\\AA$)')\n",
    "ax.set_yticks([])\n",
    "for spine in ax.spines:\n",
    "    if spine=='bottom':\n",
    "        continue\n",
    "    ax.spines[spine].set_visible(False)\n",
    "plt.show()"
   ]
  },
  {
   "cell_type": "code",
   "execution_count": 4,
   "id": "53f0259a-edb4-4c67-904b-aeab951de583",
   "metadata": {},
   "outputs": [],
   "source": [
    "xl.save(SL1, SL2, DNA_RNA_Hybrid)"
   ]
  },
  {
   "cell_type": "markdown",
   "id": "137bc2fd-55c6-4646-91d3-edc29cebba90",
   "metadata": {},
   "source": [
    "## Manual label backbone definition\n",
    "\n",
    "When creating labels that attach to a side chain, or a label that has multiple branches off the backbone, you must specify which atoms to use for the alignment of the label to the site. For example the TUM label attaches to the side chain if uracil residues.  \n",
    "\n",
    "![TUM](tum.png)\n",
    "\n",
    "\n",
    "This can be done by passing the ``aln_atoms`` keyword argument. For TUM we will use the three atoms of the uracil ring that preceding the spin label side chain. In the picture above, these atoms are highlighted as spheres. Note that this means the atoms preceding the side chain effectively become backbone atoms. \n",
    "\n",
    "> NOTE: The atom naming of the label must exactly match that of the PDB you wish to label. For this reason you should always use standard PDB naming conventions for bath backbone and side chain atoms for nucleic acids (and amino acids for that matter.) \n"
   ]
  },
  {
   "cell_type": "code",
   "execution_count": 5,
   "id": "787a5ea4-1449-4fce-a4bb-b8e5047f662a",
   "metadata": {},
   "outputs": [
    {
     "name": "stderr",
     "output_type": "stream",
     "text": [
      "WARNING:py.warnings:C:\\Program Files\\Python312\\Lib\\site-packages\\MDAnalysis\\core\\universe.py:658: UserWarning: Reader has no dt information, set to 1.0 ps\n",
      "  dt=self.trajectory.ts.dt * step,\n",
      "\n"
     ]
    }
   ],
   "source": [
    "xl.create_library('TUM', 'TUM.pdb', aln_atoms=['N3', 'C4', 'C5'], spin_atoms=[\"N04\", \"O02\"])"
   ]
  },
  {
   "cell_type": "code",
   "execution_count": 6,
   "id": "d80a91c0-b2ae-4d54-93a6-bc85a125b14b",
   "metadata": {},
   "outputs": [
    {
     "name": "stdout",
     "output_type": "stream",
     "text": [
      "\n",
      "********************************************************************************\n",
      "*  Rotamer Library Name:                                                  TUM  *\n",
      "********************************************************************************\n",
      "Rotamer Library Name: TUM\n",
      "File: E:\\07)Programming\\Python\\chiLife\\examples\\10 - Nucleic acid \n",
      "    labels\\TUM_rotlib.npz\n",
      "Description: None\n",
      "Comment: None\n",
      "\n",
      "Length of library: 192\n",
      "Dihedral definitions: \n",
      "    ['N3' 'C4' 'S01' 'S03']\n",
      "    ['C4' 'S01' 'S03' 'C05']\n",
      "    ['S01' 'S03' 'C05' 'C06']\n",
      "    ['S03' 'C05' 'C06' 'C07']\n",
      "Spin atoms: ['N04' 'O02']\n",
      "Number of atoms: N: 3, C: 13, S: 2, O: 2, H: 18\n",
      "Number of heavy atoms: 20\n",
      "Reference: None\n",
      "chiLife rotlib format: 1.4\n",
      "********************************************************************************\n"
     ]
    }
   ],
   "source": [
    "xl.rotlib_info('TUM')"
   ]
  },
  {
   "cell_type": "markdown",
   "id": "28272480-2740-4fab-8d8a-002835a3d432",
   "metadata": {},
   "source": [
    ">NOTE: Because we used standard atom naming conventions, and all pyrimidine use similar atom names, we can actually use this uricil label to label any pyrimidine"
   ]
  },
  {
   "cell_type": "code",
   "execution_count": 7,
   "id": "c43c2502-3a7a-4038-a3aa-7cccd3316569",
   "metadata": {},
   "outputs": [],
   "source": [
    "# Label an RNA uracil \n",
    "SL1 = xl.SpinLabel('TUM', 2, DNA_RNA_Hybrid, chain='A')\n",
    "\n",
    "# Label a RNA cytosine\n",
    "SL2 = xl.SpinLabel('TUM', 9, DNA_RNA_Hybrid, chain='A')\n"
   ]
  },
  {
   "cell_type": "code",
   "execution_count": 8,
   "id": "87502491-263c-4365-8fba-50f6fa7c63bc",
   "metadata": {},
   "outputs": [
    {
     "data": {
      "image/png": "[encoded data removed]",
      "text/plain": [
       "<Figure size 640x480 with 1 Axes>"
      ]
     },
     "metadata": {},
     "output_type": "display_data"
    }
   ],
   "source": [
    "P = xl.distance_distribution(SL1, SL2, r)\n",
    "\n",
    "fig, ax = plt.subplots()\n",
    "ax.plot(r, P)\n",
    "ax.set_xlabel(r'distance ($\\rm\\AA$)')\n",
    "ax.set_yticks([])\n",
    "for spine in ax.spines:\n",
    "    if spine=='bottom':\n",
    "        continue\n",
    "    ax.spines[spine].set_visible(False)\n",
    "plt.show()"
   ]
  },
  {
   "cell_type": "code",
   "execution_count": 9,
   "id": "7a95106d-25d9-43e8-8390-54b2427d8ffc",
   "metadata": {},
   "outputs": [],
   "source": [
    "xl.save(SL1, SL2, DNA_RNA_Hybrid)"
   ]
  },
  {
   "cell_type": "markdown",
   "id": "83ad93c6-6fd1-4a12-ba13-4703f121f4ae",
   "metadata": {},
   "source": [
    "![TUML](TUMLabeled.png)\n"
   ]
  }
 ],
 "metadata": {
  "kernelspec": {
   "display_name": "Py312",
   "language": "python",
   "name": "python3"
  },
  "language_info": {
   "codemirror_mode": {
    "name": "ipython",
    "version": 3
   },
   "file_extension": ".py",
   "mimetype": "text/x-python",
   "name": "python",
   "nbconvert_exporter": "python",
   "pygments_lexer": "ipython3",
   "version": "3.12.1"
  }
 },
 "nbformat": 4,
 "nbformat_minor": 5
}
