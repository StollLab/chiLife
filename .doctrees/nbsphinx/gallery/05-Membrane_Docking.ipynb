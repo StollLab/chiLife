{
 "cells": [
  {
   "cell_type": "markdown",
   "metadata": {},
   "source": [
    "# Membrane Docking"
   ]
  },
  {
   "cell_type": "code",
   "execution_count": 1,
   "metadata": {},
   "outputs": [
    {
     "name": "stderr",
     "output_type": "stream",
     "text": [
      "C:\\Program Files\\Python310\\lib\\site-packages\\tqdm\\auto.py:22: TqdmWarning: IProgress not found. Please update jupyter and ipywidgets. See https://ipywidgets.readthedocs.io/en/stable/user_install.html\n",
      "  from .autonotebook import tqdm as notebook_tqdm\n"
     ]
    }
   ],
   "source": [
    "import numpy as np\n",
    "from scipy.spatial.transform import Rotation\n",
    "from scipy.optimize import minimize\n",
    "import chilife as xl"
   ]
  },
  {
   "cell_type": "code",
   "execution_count": 2,
   "metadata": {},
   "outputs": [
    {
     "name": "stderr",
     "output_type": "stream",
     "text": [
      "WARNING:py.warnings:e:\\07)programming\\python\\chilife\\chilife\\protein_utils.py:731: FutureWarning: elementwise comparison failed; returning scalar instead, but in the future will perform elementwise comparison\n",
      "  if atom_list == []:\n",
      "\n"
     ]
    }
   ],
   "source": [
    "# Get protein and membrane depth data\n",
    "CPLA_C2 = xl.fetch('1bci').select_atoms('protein')\n",
    "sites, depths = np.loadtxt('Membrane_depths.txt')\n",
    "\n",
    "# Create labels and extract centroid\n",
    "label_list = [xl.SpinLabel('R1M', site, protein= CPLA_C2, sample=1000) for site in sites]\n",
    "spin_centroids = np.array([SL.spin_centroid for SL in label_list])\n",
    "\n",
    "# Translate array of spin centroids to the origin for rotating\n",
    "spin_at_ori = spin_centroids - np.mean(spin_centroids, axis=0)\n",
    "\n",
    "# Create the objective function to fit Euler angles and membrane depth to the data\n",
    "def objective(par):\n",
    "    x, y, z, zdepth = par\n",
    "\n",
    "    # Create a rotation matrix from the Euler angles\n",
    "    R = Rotation.from_euler('xyz', [x, y, z])\n",
    "    M = R.as_matrix()\n",
    "\n",
    "    # Rotate and translate the spins\n",
    "    spin_coords = spin_at_ori@M + np.array([0, 0, zdepth])\n",
    "\n",
    "    # Compare the spin depth to the experimental depths and return the sum of squares error\n",
    "    resid = spin_coords[:, 2] - depths\n",
    "    return resid @ resid\n",
    "\n",
    "fit = minimize(objective, x0=[0, 0, 0, 0], bounds=[[-180, 180], [-180, 180], [-180, 180], [-100, 100]])\n"
   ]
  },
  {
   "cell_type": "code",
   "execution_count": 3,
   "metadata": {},
   "outputs": [],
   "source": [
    "# Move CPLA_C2 to the best fit location\n",
    "R = Rotation.from_euler('xyz', fit.x[:3]).as_matrix()\n",
    "CPLA_C2.atoms.positions = (CPLA_C2.atoms.positions - np.mean(spin_centroids, axis=0)) @ R + np.array([0, 0, fit.x[-1]])\n",
    "\n",
    "# Move spin labels to new location and get the centroids for plotting\n",
    "spin_centroids = np.empty_like(spin_centroids)\n",
    "for i, SL in enumerate(label_list):\n",
    "    SL.to_site(CPLA_C2.select_atoms(f'name N CA C and resid {SL.site}').positions)\n",
    "    spin_centroids[i] = SL.spin_centroid\n",
    "\n",
    "\n",
    "xl.save('C2_docked.pdb', *label_list, CPLA_C2, KDE=False)"
   ]
  },
  {
   "cell_type": "code",
   "execution_count": 4,
   "metadata": {},
   "outputs": [
    {
     "data": {
      "image/png": "[encoded data removed]",
      "text/plain": [
       "<Figure size 432x288 with 1 Axes>"
      ]
     },
     "metadata": {
      "needs_background": "light"
     },
     "output_type": "display_data"
    }
   ],
   "source": [
    "import matplotlib.pyplot as plt\n",
    "plt.scatter(sites, depths, label='Data')\n",
    "plt.scatter(sites, spin_centroids[:,2], label='Model')\n",
    "plt.ylabel('Membrane Depth ($\\AA$)')\n",
    "plt.xlabel('Residue Number')\n",
    "plt.legend()\n",
    "plt.show()\n"
   ]
  }
 ],
 "metadata": {
  "kernelspec": {
   "display_name": "Python 3.10",
   "language": "python",
   "name": "python3"
  },
  "language_info": {
   "codemirror_mode": {
    "name": "ipython",
    "version": 3
   },
   "file_extension": ".py",
   "mimetype": "text/x-python",
   "name": "python",
   "nbconvert_exporter": "python",
   "pygments_lexer": "ipython3",
   "version": "3.10.9"
  }
 },
 "nbformat": 4,
 "nbformat_minor": 4
}
