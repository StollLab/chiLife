{
 "cells": [
  {
   "cell_type": "code",
   "execution_count": 1,
   "metadata": {},
   "outputs": [
    {
     "name": "stderr",
     "output_type": "stream",
     "text": [
      "C:\\Program Files\\Python310\\lib\\site-packages\\tqdm\\auto.py:22: TqdmWarning: IProgress not found. Please update jupyter and ipywidgets. See https://ipywidgets.readthedocs.io/en/stable/user_install.html\n",
      "  from .autonotebook import tqdm as notebook_tqdm\n"
     ]
    }
   ],
   "source": [
    "import numpy as np\n",
    "import chilife as xl"
   ]
  },
  {
   "cell_type": "code",
   "execution_count": 2,
   "metadata": {},
   "outputs": [
    {
     "name": "stderr",
     "output_type": "stream",
     "text": [
      "WARNING:py.warnings:C:\\Program Files\\Python310\\lib\\site-packages\\MDAnalysis\\core\\universe.py:641: UserWarning: Reader has no dt information, set to 1.0 ps\n",
      "  dt=self.trajectory.ts.dt * step,\n",
      "\n"
     ]
    }
   ],
   "source": [
    "weights = np.loadtxt('weights.txt')\n",
    "xl.create_library('R3A', 'R3A_Ensemble.pdb', \n",
    "                  dihedral_atoms=[['N', 'CA', 'CB', 'SG'],\n",
    "                                  ['CA', 'CB', 'SG', 'CD'],\n",
    "                                  ['CB', 'SG', 'CD', 'C3'],\n",
    "                                  ['SG', 'CD', 'C3', 'C4']],\n",
    "                  spin_atoms={'N1': 0.5, 'O1': 0.5},\n",
    "                  weights=weights)\n",
    "\n",
    "T4L = xl.fetch('2lzm')\n",
    "T109R3 = xl.SpinLabel('R3A', 109, T4L, rotlib='R3A_rotlib.npz')\n",
    "xl.save(T109R3, T4L)\n"
   ]
  }
 ],
 "metadata": {
  "kernelspec": {
   "display_name": "Python 310",
   "language": "python",
   "name": "python3"
  },
  "language_info": {
   "codemirror_mode": {
    "name": "ipython",
    "version": 3
   },
   "file_extension": ".py",
   "mimetype": "text/x-python",
   "name": "python",
   "nbconvert_exporter": "python",
   "pygments_lexer": "ipython3",
   "version": "3.10.4"
  }
 },
 "nbformat": 4,
 "nbformat_minor": 4
}
